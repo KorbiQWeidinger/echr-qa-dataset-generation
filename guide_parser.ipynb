{
 "cells": [
  {
   "cell_type": "code",
   "execution_count": null,
   "metadata": {},
   "outputs": [],
   "source": [
    "from guide_parser import get_text\n",
    "\n",
    "\n",
    "url = \"https://ks.echr.coe.int/documents/d/echr-ks/guide_art_1_eng\"\n",
    "print(get_text(url))"
   ]
  },
  {
   "cell_type": "code",
   "execution_count": null,
   "metadata": {},
   "outputs": [],
   "source": [
    "from guide_parser import GuideParser\n",
    "\n",
    "paragraphs = GuideParser(guide_id=\"guide_art_3_eng\", starting_string=\"1.  The Court’s approach to the interpretation\").parse()\n",
    "\n",
    "for i, paragraph in enumerate(paragraphs):\n",
    "    print(f\"{i+1}. {paragraph[0:20]} ... {paragraph[-20:]}\")"
   ]
  },
  {
   "cell_type": "code",
   "execution_count": 4,
   "metadata": {},
   "outputs": [],
   "source": [
    "from guide_parser import GuideParser\n",
    "\n",
    "parsers = {\n",
    "    \"guide_art_1_eng\": GuideParser(guide_id=\"guide_art_1_eng\", remove_patterns=[\"Concepts of “jurisdiction” and imputability\"]),\n",
    "    \"guide_art_2_eng\": GuideParser(guide_id=\"guide_art_2_eng\"),\n",
    "    \"guide_art_3_eng\": GuideParser(guide_id=\"guide_art_3_eng\", starting_string=\"1.  The Court’s approach to the interpretation\"),\n",
    "    \"guide_art_4_eng\": GuideParser(guide_id=\"guide_art_4_eng\"),\n",
    "    \"guide_art_5_eng\": GuideParser(guide_id=\"guide_art_5_eng\"),\n",
    "    \"guide_art_6_civil_eng\": GuideParser(guide_id=\"guide_art_6_civil_eng\"),\n",
    "    \"guide_art_6_criminal_eng\": GuideParser(guide_id=\"guide_art_6_criminal_eng\"),\n",
    "    \"guide_art_7_eng\": GuideParser(guide_id=\"guide_art_7_eng\", starting_string=\"1.  The guarantee enshrined in Article 7\"),\n",
    "    \"guide_art_8_eng\": GuideParser(guide_id=\"guide_art_8_eng\"),\n",
    "    \"guide_art_9_eng\": GuideParser(guide_id=\"guide_art_9_eng\"),\n",
    "    \"guide_art_10_eng\": GuideParser(guide_id=\"guide_art_10_eng\"),\n",
    "    \"guide_art_11_eng\": GuideParser(guide_id=\"guide_art_11_eng\"),\n",
    "    \"guide_art_12_eng\": GuideParser(guide_id=\"guide_art_12_eng\", starting_string=\"1.  Article 12 of the Convention guarantees\"),\n",
    "    \"guide_art_13_eng\": GuideParser(guide_id=\"guide_art_13_eng\"),\n",
    "    \"guide_art_14_art_1_protocol_12_eng\": GuideParser(guide_id=\"guide_art_14_art_1_protocol_12_eng\"),\n",
    "    \"guide_art_15_eng\": GuideParser(guide_id=\"guide_art_15_eng\"),\n",
    "    \"guide_art_17_eng\": GuideParser(guide_id=\"guide_art_17_eng\"),\n",
    "    \"guide_art_18_eng\": GuideParser(guide_id=\"guide_art_18_eng\"),\n",
    "    \"Admissibility_guide_ENG\": GuideParser(guide_id=\"Admissibility_guide_ENG\", url=\"https://www.echr.coe.int/documents/d/echr/\", starting_string=\"1.  The  system  of  protection  of  fundamental  rights\"),\n",
    "    \"guide_art_46_eng\": GuideParser(guide_id=\"guide_art_46_eng\", starting_string=\"1.  One of the most significant features of the Convention\"),\n",
    "    \"guide_art_1_protocol_1_eng\": GuideParser(guide_id=\"guide_art_1_protocol_1_eng\"),\n",
    "    \"guide_art_2_protocol_1_eng\": GuideParser(guide_id=\"guide_art_2_protocol_1_eng\"),\n",
    "    \"guide_art_3_protocol_1_eng\": GuideParser(guide_id=\"guide_art_3_protocol_1_eng\"),\n",
    "    \"guide_art_2_protocol_4_eng\": GuideParser(guide_id=\"guide_art_2_protocol_4_eng\", starting_string=\"1.  Article 2 of Protocol No. 4 guarantees three\"),\n",
    "    \"guide_art_3_protocol_4_eng\": GuideParser(guide_id=\"guide_art_3_protocol_4_eng\", starting_string=\"1.  Article 3, Protocol No. 4 guarantees two\"),\n",
    "    \"guide_art_4_protocol_4_eng\": GuideParser(guide_id=\"guide_art_4_protocol_4_eng\"),\n",
    "    \"guide_art_1_protocol_7_eng\": GuideParser(guide_id=\"guide_art_1_protocol_7_eng\", starting_string=\"1.  Protocol No. 7 to the European Convention\"),\n",
    "    \"guide_art_2_protocol_7_eng\": GuideParser(guide_id=\"guide_art_2_protocol_7_eng\", starting_string=\"1.  Article 2  of  Protocol  No.  7  complements  the  guarantees\"),\n",
    "    \"guide_art_4_protocol_7_eng\": GuideParser(guide_id=\"guide_art_4_protocol_7_eng\", starting_string=\"1.  Protocol No. 7 to the Convention\"),\n",
    "    \"guide_data_protection_eng\": GuideParser(guide_id=\"guide_data_protection_eng\", starting_string=\"1.  Technological progress has led to a quantum\"),\n",
    "    \"guide_environment_eng\": GuideParser(guide_id=\"guide_environment_eng\", starting_string=\"1.  The positive obligation on States to take\"),\n",
    "    \"guide_immigration_eng\": GuideParser(guide_id=\"guide_immigration_eng\", starting_string=\"1.  The present  document is\"),\n",
    "    \"guide_mass_protests_eng\": GuideParser(guide_id=\"guide_mass_protests_eng\", starting_string=\"1.  The  present  Guide  analyses  the  Court’s\"),\n",
    "    \"guide_prisoners_rights_eng\": GuideParser(guide_id=\"guide_prisoners_rights_eng\", starting_string=\"1.  The Court is frequently called upon to\"),\n",
    "    \"guide_lgbti_rights_eng\": GuideParser(guide_id=\"guide_lgbti_rights_eng\", starting_string=\"1.  The  Convention  is  a  living  instrument  which\"),\n",
    "    \"guide_social_rights_eng\": GuideParser(guide_id=\"guide_social_rights_eng\", starting_string=\"1.  The Convention as adopted in 1950 reflected\"),\n",
    "    \"guide_terrorism_eng\": GuideParser(guide_id=\"guide_terrorism_eng\", starting_string=\"1.   Since its first ever judgment Lawless v. Ireland\")\n",
    "}"
   ]
  },
  {
   "cell_type": "code",
   "execution_count": 10,
   "metadata": {},
   "outputs": [],
   "source": [
    "import pandas as pd\n",
    "from pandas import DataFrame\n",
    "\n",
    "def replace_guide(guide_id: str, df: DataFrame):\n",
    "    aclg_df = pd.read_csv(\"echr_case_law_guides.csv\")\n",
    "    aclg_df = aclg_df[aclg_df['guide_id'] != guide_id]  # remove old entries\n",
    "    new_df = pd.concat([aclg_df, df])  # add new entries\n",
    "    new_df = new_df.loc[:, ~new_df.columns.str.startswith('Unnamed')]\n",
    "    new_df.to_csv(\"echr_case_law_guides.csv\", index=False)  # save to CSV\n",
    "\n",
    "parser = parsers[\"guide_art_1_eng\"]\n",
    "df = parser.to_csv()\n",
    "df\n",
    "\n",
    "replace_guide(\"guide_art_1_eng\", df)"
   ]
  },
  {
   "cell_type": "code",
   "execution_count": null,
   "metadata": {},
   "outputs": [],
   "source": [
    "import pandas as pd\n",
    "\n",
    "df = pd.DataFrame()\n",
    "\n",
    "for key, parser in parsers.items():\n",
    "    dfg = parser.to_csv()\n",
    "    df = pd.concat([df, dfg], ignore_index=True)\n",
    "    df = df.loc[:, ~df.columns.str.startswith('Unnamed')]\n",
    "    print(key, len(paragraphs))\n",
    "\n",
    "df.to_csv(\"echr_case_law_guides.csv\", index=False)\n",
    "df"
   ]
  }
 ],
 "metadata": {
  "kernelspec": {
   "display_name": "env",
   "language": "python",
   "name": "python3"
  },
  "language_info": {
   "codemirror_mode": {
    "name": "ipython",
    "version": 3
   },
   "file_extension": ".py",
   "mimetype": "text/x-python",
   "name": "python",
   "nbconvert_exporter": "python",
   "pygments_lexer": "ipython3",
   "version": "3.12.3"
  }
 },
 "nbformat": 4,
 "nbformat_minor": 2
}
