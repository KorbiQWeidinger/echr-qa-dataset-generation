{
 "cells": [
  {
   "cell_type": "markdown",
   "metadata": {},
   "source": [
    "# DB transformation"
   ]
  },
  {
   "cell_type": "code",
   "execution_count": null,
   "metadata": {},
   "outputs": [],
   "source": [
    "import json\n",
    "import sqlite3\n",
    "import re\n",
    "\n",
    "def get_paragraph_number(text):\n",
    "  pattern = r\"^(\\d+)\\.\"\n",
    "  match = re.match(pattern, text)\n",
    "  return int(match.group(1)) if match else None\n",
    "\n",
    "def get_paragraphs(data: list[dict]):\n",
    "    paragraphs = {}\n",
    "    def get_paragraphs_rec(data):\n",
    "        paragraph_number = get_paragraph_number(data[\"content\"])\n",
    "        if paragraph_number and paragraph_number not in paragraphs:\n",
    "            paragraph = data[\"content\"]\n",
    "            paragraphs[paragraph_number] = paragraph\n",
    "        for e in data[\"elements\"]:\n",
    "            res = get_paragraphs_rec(e)\n",
    "            if res:\n",
    "                return res\n",
    "        return None\n",
    "    for d in data:\n",
    "        get_paragraphs_rec(d)\n",
    "\n",
    "    return paragraphs\n",
    "\n",
    "db_path = \"data/echr_2_0_0.db\"\n",
    "conn = sqlite3.connect(db_path)\n",
    "c = conn.cursor()\n",
    "\n",
    "cases = c.execute(\"SELECT * FROM 'case'\")\n",
    "cases = cases.fetchall()\n",
    "\n",
    "cases_map = {} # maps case_id to paragraph_number to paragraph_text\n",
    "\n",
    "for case in cases:\n",
    "    case_id = case[0]\n",
    "    data = case[-1]\n",
    "    data = json.loads(data)\n",
    "    paragraphs = get_paragraphs(data)\n",
    "    cases_map[case_id] = paragraphs\n",
    "\n",
    "print(len(cases_map))"
   ]
  },
  {
   "cell_type": "markdown",
   "metadata": {},
   "source": [
    "Now we collect all case ids from the echr qa dataset\n"
   ]
  },
  {
   "cell_type": "code",
   "execution_count": null,
   "metadata": {},
   "outputs": [],
   "source": [
    "import pandas as pd\n",
    "df = pd.read_csv(\"data/echr_qa_dataset.csv\")\n",
    "df"
   ]
  },
  {
   "cell_type": "code",
   "execution_count": null,
   "metadata": {},
   "outputs": [],
   "source": [
    "echr_qa_case_ids = set()\n",
    "\n",
    "for i, row in df.iterrows():\n",
    "    citations = json.loads(row[\"citations\"])\n",
    "    for citation in citations:\n",
    "        echr_qa_case_ids.add(citation[\"case_id\"])\n",
    "\n",
    "print(len(echr_qa_case_ids))"
   ]
  },
  {
   "cell_type": "markdown",
   "metadata": {},
   "source": [
    "Now we retrieve all case ids that are not in echr open data"
   ]
  },
  {
   "cell_type": "code",
   "execution_count": null,
   "metadata": {},
   "outputs": [],
   "source": [
    "import requests\n",
    "\n",
    "from bs4 import BeautifulSoup\n",
    "\n",
    "def available_paragraphs(text: str):\n",
    "    i = 1\n",
    "    while f\"\\n{i}\" in text:\n",
    "        i += 1\n",
    "    return i - 1\n",
    "\n",
    "def get_paragraphs_for_case_id(case_id: str):\n",
    "    url = f\"https://hudoc.echr.coe.int/app/conversion/docx/html/body?library=ECHR&id={case_id}\"\n",
    "    res = requests.get(url)\n",
    "    data = res.text\n",
    "\n",
    "    soup = BeautifulSoup(data, \"html.parser\")\n",
    "\n",
    "    text = soup.get_text(separator=\"\\n\")\n",
    "    n = available_paragraphs(text)\n",
    "\n",
    "    paragraphs = {}\n",
    "    for i in range(1, n):\n",
    "        _, _, after = text.partition(f\"\\n{i}\")\n",
    "        paragraph, _, text = after.partition(f\"\\n{i+1}\")\n",
    "        text = f\"\\n{i+1}\" + text\n",
    "        paragraphs[i] = re.sub(r'\\s+', ' ', paragraph).strip()\n",
    "    paragraphs[n] = text[0:600]\n",
    "    return paragraphs\n",
    "\n",
    "print(json.dumps(get_paragraphs_for_case_id(\"001-98238\"), indent=4))"
   ]
  },
  {
   "cell_type": "code",
   "execution_count": null,
   "metadata": {},
   "outputs": [],
   "source": [
    "for case_id in echr_qa_case_ids:\n",
    "    if case_id not in cases_map:\n",
    "        paragraphs = get_paragraphs_for_case_id(case_id)\n",
    "        print(f\"Retrieved paragraphs for case_id {case_id}: {len(paragraphs)}\")\n",
    "        cases_map[case_id] = paragraphs"
   ]
  },
  {
   "cell_type": "markdown",
   "metadata": {},
   "source": [
    "We now create a df that has all paragraphs: (case_id, case_name, paragraph_number, paragraph)"
   ]
  },
  {
   "cell_type": "code",
   "execution_count": null,
   "metadata": {},
   "outputs": [],
   "source": [
    "case_name_map = {}\n",
    "\n",
    "for case in cases:\n",
    "    case_id = case[0]\n",
    "    case_name = case[1]\n",
    "    case_name_map[case_id] = case_name\n",
    "\n",
    "print(len(cases_map))   "
   ]
  },
  {
   "cell_type": "code",
   "execution_count": null,
   "metadata": {},
   "outputs": [],
   "source": [
    "def get_case_name(case_id: str):\n",
    "    url = f'https://hudoc.echr.coe.int/app/query/results?query=((itemid%3A\\\"{case_id}\\\"))&select=sharepointid,rank,echrranking,languagenumber,itemid,docname,doctype,application,appno,conclusion,importance,originatingbody,typedescription,kpdate,kpdateastext,documentcollectionid,documentcollectionid2,languageisocode,extractedappno,isplaceholder,doctypebranch,respondent,advopidentifier,advopstatus,ecli,appnoparts,sclappnos,ECHRConcepts&sort=&start=0&length=20&rankingModelId=11111111-0000-0000-0000-000000000000'\n",
    "    res = requests.get(url)\n",
    "    data = res.json()\n",
    "    return data[\"results\"][0][\"columns\"][\"docname\"]\n",
    "\n",
    "\n",
    "for case_id in echr_qa_case_ids:\n",
    "    if case_id not in case_name_map:\n",
    "        case_name = get_case_name(case_id)\n",
    "        print(f\"Retrieved case name for case_id {case_id}: {case_name}\")\n",
    "        case_name_map[case_id] = case_name"
   ]
  },
  {
   "cell_type": "markdown",
   "metadata": {},
   "source": [
    "Now we create our csv dataset"
   ]
  },
  {
   "cell_type": "code",
   "execution_count": null,
   "metadata": {},
   "outputs": [],
   "source": [
    "df = pd.DataFrame()\n",
    "\n",
    "all_case_ids = []\n",
    "all_case_names = []\n",
    "all_paragraph_numbers = []\n",
    "all_paragraph_texts = []\n",
    "\n",
    "for case_id in cases_map.keys():\n",
    "    case_name = case_name_map[case_id]\n",
    "    case = cases_map[case_id]\n",
    "\n",
    "    for paragraph_number in case.keys():\n",
    "        all_case_ids.append(case_id)\n",
    "        all_case_names.append(case_name)\n",
    "        all_paragraph_numbers.append(paragraph_number)\n",
    "        all_paragraph_texts.append(case[paragraph_number])\n",
    "\n",
    "print(len(all_case_ids))\n",
    "print(len(all_case_names))\n",
    "print(len(all_paragraph_numbers))\n",
    "print(len(all_paragraph_texts))"
   ]
  },
  {
   "cell_type": "code",
   "execution_count": null,
   "metadata": {},
   "outputs": [],
   "source": [
    "df[\"case_id\"] = all_case_ids\n",
    "df[\"case_name\"] = all_case_names\n",
    "df[\"paragraph_number\"] = all_paragraph_numbers\n",
    "df[\"paragraph_text\"] = all_paragraph_texts\n",
    "\n",
    "df.to_csv(\"data/echr_case_paragraphs.csv\", index=False)"
   ]
  }
 ],
 "metadata": {
  "kernelspec": {
   "display_name": "env",
   "language": "python",
   "name": "python3"
  },
  "language_info": {
   "codemirror_mode": {
    "name": "ipython",
    "version": 3
   },
   "file_extension": ".py",
   "mimetype": "text/x-python",
   "name": "python",
   "nbconvert_exporter": "python",
   "pygments_lexer": "ipython3",
   "version": "3.11.8"
  }
 },
 "nbformat": 4,
 "nbformat_minor": 2
}
