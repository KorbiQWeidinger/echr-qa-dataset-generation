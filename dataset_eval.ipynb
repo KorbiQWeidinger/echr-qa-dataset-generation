{
 "cells": [
  {
   "cell_type": "code",
   "execution_count": null,
   "metadata": {},
   "outputs": [],
   "source": [
    "import pandas as pd\n",
    "\n",
    "df = pd.read_csv('data/echr_qa_dataset.csv')\n",
    "\n",
    "# print length of dataset\n",
    "print(df.shape)\n",
    "df.head()"
   ]
  },
  {
   "cell_type": "code",
   "execution_count": null,
   "metadata": {},
   "outputs": [],
   "source": [
    "import json\n",
    "import tiktoken\n",
    "import spacy\n",
    "\n",
    "\n",
    "nlp = spacy.load(\"en_core_web_trf\")\n",
    "\n",
    "\n",
    "def get_sentences(response: str):\n",
    "    doc = nlp(response)\n",
    "    sentences = [s.text for s in doc.sents if s.text.strip()]\n",
    "    return sentences\n",
    "\n",
    "enc = tiktoken.get_encoding(\"cl100k_base\")\n",
    "\n",
    "# get the average token length of questions\n",
    "df['question_length'] = df['question'].apply(lambda x: len(enc.encode(x)))\n",
    "df['answer_length'] = df['answer'].apply(lambda x: len(enc.encode(x)))\n",
    "# answer sentences \n",
    "df['answer_sentences_length'] = df['answer'].apply(lambda x: len(get_sentences(x)))\n",
    "df['citations'] = df['citations'].apply(lambda x: json.loads(x))\n",
    "df['citations_length'] = df['citations'].apply(lambda x: sum([len(c[\"paragraph_numbers\"]) for c in x]))\n",
    "\n",
    "\n",
    "print(df['question_length'].mean())\n",
    "print(df['answer_length'].mean())\n",
    "print(df['answer_sentences_length'].mean())\n",
    "print(df['citations_length'].mean())\n",
    "\n",
    "df.head()"
   ]
  },
  {
   "cell_type": "code",
   "execution_count": null,
   "metadata": {},
   "outputs": [],
   "source": [
    "from matplotlib import pyplot as plt\n",
    "import seaborn as sns\n",
    "\n",
    "# Create dataframes for the different lengths\n",
    "question_length_df = pd.DataFrame({'Question Tokens': df['question_length']})\n",
    "answer_length_df = pd.DataFrame({'Answer Tokens': df['answer_length']})\n",
    "answer_sentences_length_df = pd.DataFrame({'Answer Sentences': df['answer_sentences_length']})\n",
    "citations_length_df = pd.DataFrame({'Citations Length': df['citations_length']})\n",
    "\n",
    "# Create 2x2 grid plots\n",
    "fig, axs = plt.subplots(2, 2, figsize=(14, 12))\n",
    "\n",
    "# Plot 1 - Question Length Distribution\n",
    "axs[0, 0].set_title('Question Tokens Distribution')\n",
    "sns.kdeplot(data=question_length_df, x=\"Question Tokens\", ax=axs[0, 0])\n",
    "\n",
    "# Plot 2 - Answer Length Distribution\n",
    "axs[0, 1].set_title('Answer Tokens Distribution')\n",
    "sns.kdeplot(data=answer_length_df, x=\"Answer Tokens\", ax=axs[0, 1])\n",
    "\n",
    "# Plot 3 - Answer Sentence Length Distribution\n",
    "axs[1, 0].set_title('Answer Sentences Distribution')\n",
    "sns.kdeplot(data=answer_sentences_length_df, x=\"Answer Sentences\", ax=axs[1, 0])\n",
    "\n",
    "# Plot 4 - Citations Length Distribution\n",
    "axs[1, 1].set_title('Citations Distribution')\n",
    "sns.kdeplot(data=citations_length_df, x=\"Citations Length\", ax=axs[1, 1])\n",
    "\n",
    "# Adjust layout\n",
    "plt.tight_layout()\n",
    "\n",
    "# Show plot\n",
    "plt.show()"
   ]
  }
 ],
 "metadata": {
  "kernelspec": {
   "display_name": "env",
   "language": "python",
   "name": "python3"
  },
  "language_info": {
   "codemirror_mode": {
    "name": "ipython",
    "version": 3
   },
   "file_extension": ".py",
   "mimetype": "text/x-python",
   "name": "python",
   "nbconvert_exporter": "python",
   "pygments_lexer": "ipython3",
   "version": "3.11.8"
  }
 },
 "nbformat": 4,
 "nbformat_minor": 2
}
